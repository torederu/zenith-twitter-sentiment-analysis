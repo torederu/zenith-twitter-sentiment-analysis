{
 "cells": [
  {
   "cell_type": "markdown",
   "id": "b7e70a1d-c438-4fbc-91ca-3718e8af2bb6",
   "metadata": {},
   "source": [
    "# Marketing Insights from Twitter Sentiment "
   ]
  },
  {
   "cell_type": "markdown",
   "id": "cfabad65-385d-4357-a7b7-08b28a2e5c13",
   "metadata": {},
   "source": [
    "#### Zenith Mobile is an innovative startup poised to disrupt the mobile technology landscape by offering groundbreaking solutions that challenge the dominance of established brands. Instead of relying on traditional marketing avenues, Zenith Mobile's strategy is digital-first: identify potential customers active on social media, particularly those who feel lackluster about leading brands, and reach out to them directly. By doing this, they aim to create a direct dialogue with potential customers and showcase the unique advantages that Zenith Mobile has to offer.\n",
    "\n",
    "#### To bring this strategy to life, I modeled sentiments from tweets related to big names in mobile tech, such as Apple and Google. I specifically worked with a compilation of 9,093 tweets about Apple or Google products. The tweets have been categorized based on sentiment: 2,978 are positive, 570 are negative, 5,389 are neutral, and 156 couldn't be determined. Since the goal is to pinpoint individuals who might be feeling indifferent or unsatisfied with the dominant brands, the positive class (labeled 1) was grouped to consist of all the neutral and negative sentiment tweets, for a total of 5,959 1's in the dataset. The negative class (labeled 0) consisted of all the positive sentiment tweets, for a total of 2,978 0's.  \n",
    "\n",
    "#### I modeled the emotionality of the tweets using Natural Language Processing (NLP) in combination with several classifiers: Multinomial Naive Bayes, Logistic Regression, Random Forest, Neural Network, XGBoost, and Complement Naive Bayes. In running and tuning these models, we optimized for high recall scores to ensure that Zenith Mobile identifies as many likely potential customers as possible, minimizing the chances of missing out on someone who might be interested in their products.\n",
    "\n",
    "#### After running baseline models for all the classifiers selected, Complement Naive Bayes, XGBoost, Random Forest, and Logistic Regression showed promise and were selected for further hyperparameter tuning. Following hyperparameter tuning, Complement Naive Bayes outperformed all other models with training, validation, and testing recall scores of 0.99, 0.98, and 0.98, respectively. "
   ]
  },
  {
   "cell_type": "code",
   "execution_count": 1,
   "id": "85fa8fa8-1693-4816-9232-ac2b7893bf3d",
   "metadata": {},
   "outputs": [],
   "source": [
    "# Switch to determine whether figures will be saved, 0=no, 1=yes\n",
    "save_figs=0"
   ]
  },
  {
   "cell_type": "code",
   "execution_count": 25,
   "id": "d7662ba0-ab08-47e2-8013-d9bad541aa97",
   "metadata": {},
   "outputs": [],
   "source": [
    "# Import packages\n",
    "\n",
    "import pandas as pd\n",
    "import numpy as np\n",
    "import matplotlib.pyplot as plt\n",
    "import seaborn as sns\n",
    "\n",
    "import nltk\n",
    "from nltk.tokenize import word_tokenize, sent_tokenize\n",
    "from nltk.corpus import stopwords, wordnet\n",
    "from nltk import WordNetLemmatizer, pos_tag\n",
    "\n",
    "from sklearn.linear_model import LogisticRegression\n",
    "from sklearn.model_selection import train_test_split, GridSearchCV\n",
    "from sklearn.feature_extraction.text import TfidfVectorizer, CountVectorizer\n",
    "from sklearn.preprocessing import LabelEncoder\n",
    "from sklearn.metrics import accuracy_score, classification_report, roc_curve, \\\n",
    "roc_auc_score, make_scorer, recall_score, ConfusionMatrixDisplay\n",
    "from sklearn.pipeline import Pipeline\n",
    "from sklearn.naive_bayes import MultinomialNB, ComplementNB\n",
    "from sklearn.ensemble import RandomForestClassifier\n",
    "from sklearn.neural_network import MLPClassifier\n",
    "from sklearn.base import BaseEstimator, TransformerMixin\n",
    "from xgboost import XGBClassifier\n",
    "\n",
    "import warnings\n",
    "warnings.filterwarnings(\"ignore\")"
   ]
  },
  {
   "cell_type": "code",
   "execution_count": 3,
   "id": "c47f7b66-1ab0-48d2-bb45-a3b4d396d7d5",
   "metadata": {},
   "outputs": [
    {
     "name": "stderr",
     "output_type": "stream",
     "text": [
      "[nltk_data] Downloading collection 'all'\n",
      "[nltk_data]    | \n",
      "[nltk_data]    | Downloading package abc to /Users/tem/nltk_data...\n",
      "[nltk_data]    |   Package abc is already up-to-date!\n",
      "[nltk_data]    | Downloading package alpino to /Users/tem/nltk_data...\n",
      "[nltk_data]    |   Package alpino is already up-to-date!\n",
      "[nltk_data]    | Downloading package averaged_perceptron_tagger to\n",
      "[nltk_data]    |     /Users/tem/nltk_data...\n",
      "[nltk_data]    |   Package averaged_perceptron_tagger is already up-\n",
      "[nltk_data]    |       to-date!\n",
      "[nltk_data]    | Downloading package averaged_perceptron_tagger_ru to\n",
      "[nltk_data]    |     /Users/tem/nltk_data...\n",
      "[nltk_data]    |   Package averaged_perceptron_tagger_ru is already\n",
      "[nltk_data]    |       up-to-date!\n",
      "[nltk_data]    | Downloading package basque_grammars to\n",
      "[nltk_data]    |     /Users/tem/nltk_data...\n",
      "[nltk_data]    |   Package basque_grammars is already up-to-date!\n",
      "[nltk_data]    | Downloading package bcp47 to /Users/tem/nltk_data...\n",
      "[nltk_data]    |   Package bcp47 is already up-to-date!\n",
      "[nltk_data]    | Downloading package biocreative_ppi to\n",
      "[nltk_data]    |     /Users/tem/nltk_data...\n",
      "[nltk_data]    |   Package biocreative_ppi is already up-to-date!\n",
      "[nltk_data]    | Downloading package bllip_wsj_no_aux to\n",
      "[nltk_data]    |     /Users/tem/nltk_data...\n",
      "[nltk_data]    |   Package bllip_wsj_no_aux is already up-to-date!\n",
      "[nltk_data]    | Downloading package book_grammars to\n",
      "[nltk_data]    |     /Users/tem/nltk_data...\n",
      "[nltk_data]    |   Package book_grammars is already up-to-date!\n",
      "[nltk_data]    | Downloading package brown to /Users/tem/nltk_data...\n",
      "[nltk_data]    |   Package brown is already up-to-date!\n",
      "[nltk_data]    | Downloading package brown_tei to\n",
      "[nltk_data]    |     /Users/tem/nltk_data...\n",
      "[nltk_data]    |   Package brown_tei is already up-to-date!\n",
      "[nltk_data]    | Downloading package cess_cat to\n",
      "[nltk_data]    |     /Users/tem/nltk_data...\n",
      "[nltk_data]    |   Package cess_cat is already up-to-date!\n",
      "[nltk_data]    | Downloading package cess_esp to\n",
      "[nltk_data]    |     /Users/tem/nltk_data...\n",
      "[nltk_data]    |   Package cess_esp is already up-to-date!\n",
      "[nltk_data]    | Downloading package chat80 to /Users/tem/nltk_data...\n",
      "[nltk_data]    |   Package chat80 is already up-to-date!\n",
      "[nltk_data]    | Downloading package city_database to\n",
      "[nltk_data]    |     /Users/tem/nltk_data...\n",
      "[nltk_data]    |   Package city_database is already up-to-date!\n",
      "[nltk_data]    | Downloading package cmudict to\n",
      "[nltk_data]    |     /Users/tem/nltk_data...\n",
      "[nltk_data]    |   Package cmudict is already up-to-date!\n",
      "[nltk_data]    | Downloading package comparative_sentences to\n",
      "[nltk_data]    |     /Users/tem/nltk_data...\n",
      "[nltk_data]    |   Package comparative_sentences is already up-to-\n",
      "[nltk_data]    |       date!\n",
      "[nltk_data]    | Downloading package comtrans to\n",
      "[nltk_data]    |     /Users/tem/nltk_data...\n",
      "[nltk_data]    |   Package comtrans is already up-to-date!\n",
      "[nltk_data]    | Downloading package conll2000 to\n",
      "[nltk_data]    |     /Users/tem/nltk_data...\n",
      "[nltk_data]    |   Package conll2000 is already up-to-date!\n",
      "[nltk_data]    | Downloading package conll2002 to\n",
      "[nltk_data]    |     /Users/tem/nltk_data...\n",
      "[nltk_data]    |   Package conll2002 is already up-to-date!\n",
      "[nltk_data]    | Downloading package conll2007 to\n",
      "[nltk_data]    |     /Users/tem/nltk_data...\n",
      "[nltk_data]    |   Package conll2007 is already up-to-date!\n",
      "[nltk_data]    | Downloading package crubadan to\n",
      "[nltk_data]    |     /Users/tem/nltk_data...\n",
      "[nltk_data]    |   Package crubadan is already up-to-date!\n",
      "[nltk_data]    | Downloading package dependency_treebank to\n",
      "[nltk_data]    |     /Users/tem/nltk_data...\n",
      "[nltk_data]    |   Package dependency_treebank is already up-to-date!\n",
      "[nltk_data]    | Downloading package dolch to /Users/tem/nltk_data...\n",
      "[nltk_data]    |   Package dolch is already up-to-date!\n",
      "[nltk_data]    | Downloading package europarl_raw to\n",
      "[nltk_data]    |     /Users/tem/nltk_data...\n",
      "[nltk_data]    |   Package europarl_raw is already up-to-date!\n",
      "[nltk_data]    | Downloading package extended_omw to\n",
      "[nltk_data]    |     /Users/tem/nltk_data...\n",
      "[nltk_data]    |   Package extended_omw is already up-to-date!\n",
      "[nltk_data]    | Downloading package floresta to\n",
      "[nltk_data]    |     /Users/tem/nltk_data...\n",
      "[nltk_data]    |   Package floresta is already up-to-date!\n",
      "[nltk_data]    | Downloading package framenet_v15 to\n",
      "[nltk_data]    |     /Users/tem/nltk_data...\n",
      "[nltk_data]    |   Package framenet_v15 is already up-to-date!\n",
      "[nltk_data]    | Downloading package framenet_v17 to\n",
      "[nltk_data]    |     /Users/tem/nltk_data...\n",
      "[nltk_data]    |   Package framenet_v17 is already up-to-date!\n",
      "[nltk_data]    | Downloading package gazetteers to\n",
      "[nltk_data]    |     /Users/tem/nltk_data...\n",
      "[nltk_data]    |   Package gazetteers is already up-to-date!\n",
      "[nltk_data]    | Downloading package genesis to\n",
      "[nltk_data]    |     /Users/tem/nltk_data...\n",
      "[nltk_data]    |   Package genesis is already up-to-date!\n",
      "[nltk_data]    | Downloading package gutenberg to\n",
      "[nltk_data]    |     /Users/tem/nltk_data...\n",
      "[nltk_data]    |   Package gutenberg is already up-to-date!\n",
      "[nltk_data]    | Downloading package ieer to /Users/tem/nltk_data...\n",
      "[nltk_data]    |   Package ieer is already up-to-date!\n",
      "[nltk_data]    | Downloading package inaugural to\n",
      "[nltk_data]    |     /Users/tem/nltk_data...\n",
      "[nltk_data]    |   Package inaugural is already up-to-date!\n",
      "[nltk_data]    | Downloading package indian to /Users/tem/nltk_data...\n",
      "[nltk_data]    |   Package indian is already up-to-date!\n",
      "[nltk_data]    | Downloading package jeita to /Users/tem/nltk_data...\n",
      "[nltk_data]    |   Package jeita is already up-to-date!\n",
      "[nltk_data]    | Downloading package kimmo to /Users/tem/nltk_data...\n",
      "[nltk_data]    |   Package kimmo is already up-to-date!\n",
      "[nltk_data]    | Downloading package knbc to /Users/tem/nltk_data...\n",
      "[nltk_data]    |   Package knbc is already up-to-date!\n",
      "[nltk_data]    | Downloading package large_grammars to\n",
      "[nltk_data]    |     /Users/tem/nltk_data...\n",
      "[nltk_data]    |   Package large_grammars is already up-to-date!\n",
      "[nltk_data]    | Downloading package lin_thesaurus to\n",
      "[nltk_data]    |     /Users/tem/nltk_data...\n",
      "[nltk_data]    |   Package lin_thesaurus is already up-to-date!\n",
      "[nltk_data]    | Downloading package mac_morpho to\n",
      "[nltk_data]    |     /Users/tem/nltk_data...\n",
      "[nltk_data]    |   Package mac_morpho is already up-to-date!\n",
      "[nltk_data]    | Downloading package machado to\n",
      "[nltk_data]    |     /Users/tem/nltk_data...\n",
      "[nltk_data]    |   Package machado is already up-to-date!\n",
      "[nltk_data]    | Downloading package masc_tagged to\n",
      "[nltk_data]    |     /Users/tem/nltk_data...\n",
      "[nltk_data]    |   Package masc_tagged is already up-to-date!\n",
      "[nltk_data]    | Downloading package maxent_ne_chunker to\n",
      "[nltk_data]    |     /Users/tem/nltk_data...\n",
      "[nltk_data]    |   Package maxent_ne_chunker is already up-to-date!\n",
      "[nltk_data]    | Downloading package maxent_treebank_pos_tagger to\n",
      "[nltk_data]    |     /Users/tem/nltk_data...\n",
      "[nltk_data]    |   Package maxent_treebank_pos_tagger is already up-\n",
      "[nltk_data]    |       to-date!\n",
      "[nltk_data]    | Downloading package moses_sample to\n",
      "[nltk_data]    |     /Users/tem/nltk_data...\n",
      "[nltk_data]    |   Package moses_sample is already up-to-date!\n",
      "[nltk_data]    | Downloading package movie_reviews to\n",
      "[nltk_data]    |     /Users/tem/nltk_data...\n",
      "[nltk_data]    |   Package movie_reviews is already up-to-date!\n",
      "[nltk_data]    | Downloading package mte_teip5 to\n",
      "[nltk_data]    |     /Users/tem/nltk_data...\n",
      "[nltk_data]    |   Package mte_teip5 is already up-to-date!\n",
      "[nltk_data]    | Downloading package mwa_ppdb to\n",
      "[nltk_data]    |     /Users/tem/nltk_data...\n",
      "[nltk_data]    |   Package mwa_ppdb is already up-to-date!\n",
      "[nltk_data]    | Downloading package names to /Users/tem/nltk_data...\n",
      "[nltk_data]    |   Package names is already up-to-date!\n",
      "[nltk_data]    | Downloading package nombank.1.0 to\n",
      "[nltk_data]    |     /Users/tem/nltk_data...\n",
      "[nltk_data]    |   Package nombank.1.0 is already up-to-date!\n",
      "[nltk_data]    | Downloading package nonbreaking_prefixes to\n",
      "[nltk_data]    |     /Users/tem/nltk_data...\n",
      "[nltk_data]    |   Package nonbreaking_prefixes is already up-to-date!\n",
      "[nltk_data]    | Downloading package nps_chat to\n",
      "[nltk_data]    |     /Users/tem/nltk_data...\n",
      "[nltk_data]    |   Package nps_chat is already up-to-date!\n",
      "[nltk_data]    | Downloading package omw to /Users/tem/nltk_data...\n",
      "[nltk_data]    |   Package omw is already up-to-date!\n",
      "[nltk_data]    | Downloading package omw-1.4 to\n",
      "[nltk_data]    |     /Users/tem/nltk_data...\n",
      "[nltk_data]    |   Package omw-1.4 is already up-to-date!\n",
      "[nltk_data]    | Downloading package opinion_lexicon to\n",
      "[nltk_data]    |     /Users/tem/nltk_data...\n",
      "[nltk_data]    |   Package opinion_lexicon is already up-to-date!\n",
      "[nltk_data]    | Downloading package panlex_swadesh to\n",
      "[nltk_data]    |     /Users/tem/nltk_data...\n",
      "[nltk_data]    |   Package panlex_swadesh is already up-to-date!\n",
      "[nltk_data]    | Downloading package paradigms to\n",
      "[nltk_data]    |     /Users/tem/nltk_data...\n",
      "[nltk_data]    |   Package paradigms is already up-to-date!\n",
      "[nltk_data]    | Downloading package pe08 to /Users/tem/nltk_data...\n",
      "[nltk_data]    |   Package pe08 is already up-to-date!\n",
      "[nltk_data]    | Downloading package perluniprops to\n",
      "[nltk_data]    |     /Users/tem/nltk_data...\n",
      "[nltk_data]    |   Package perluniprops is already up-to-date!\n",
      "[nltk_data]    | Downloading package pil to /Users/tem/nltk_data...\n",
      "[nltk_data]    |   Package pil is already up-to-date!\n",
      "[nltk_data]    | Downloading package pl196x to /Users/tem/nltk_data...\n",
      "[nltk_data]    |   Package pl196x is already up-to-date!\n",
      "[nltk_data]    | Downloading package porter_test to\n",
      "[nltk_data]    |     /Users/tem/nltk_data...\n",
      "[nltk_data]    |   Package porter_test is already up-to-date!\n",
      "[nltk_data]    | Downloading package ppattach to\n",
      "[nltk_data]    |     /Users/tem/nltk_data...\n",
      "[nltk_data]    |   Package ppattach is already up-to-date!\n",
      "[nltk_data]    | Downloading package problem_reports to\n",
      "[nltk_data]    |     /Users/tem/nltk_data...\n",
      "[nltk_data]    |   Package problem_reports is already up-to-date!\n",
      "[nltk_data]    | Downloading package product_reviews_1 to\n",
      "[nltk_data]    |     /Users/tem/nltk_data...\n",
      "[nltk_data]    |   Package product_reviews_1 is already up-to-date!\n",
      "[nltk_data]    | Downloading package product_reviews_2 to\n",
      "[nltk_data]    |     /Users/tem/nltk_data...\n",
      "[nltk_data]    |   Package product_reviews_2 is already up-to-date!\n",
      "[nltk_data]    | Downloading package propbank to\n",
      "[nltk_data]    |     /Users/tem/nltk_data...\n",
      "[nltk_data]    |   Package propbank is already up-to-date!\n",
      "[nltk_data]    | Downloading package pros_cons to\n",
      "[nltk_data]    |     /Users/tem/nltk_data...\n",
      "[nltk_data]    |   Package pros_cons is already up-to-date!\n",
      "[nltk_data]    | Downloading package ptb to /Users/tem/nltk_data...\n",
      "[nltk_data]    |   Package ptb is already up-to-date!\n",
      "[nltk_data]    | Downloading package punkt to /Users/tem/nltk_data...\n",
      "[nltk_data]    |   Package punkt is already up-to-date!\n",
      "[nltk_data]    | Downloading package qc to /Users/tem/nltk_data...\n",
      "[nltk_data]    |   Package qc is already up-to-date!\n",
      "[nltk_data]    | Downloading package reuters to\n",
      "[nltk_data]    |     /Users/tem/nltk_data...\n",
      "[nltk_data]    |   Package reuters is already up-to-date!\n",
      "[nltk_data]    | Downloading package rslp to /Users/tem/nltk_data...\n",
      "[nltk_data]    |   Package rslp is already up-to-date!\n",
      "[nltk_data]    | Downloading package rte to /Users/tem/nltk_data...\n",
      "[nltk_data]    |   Package rte is already up-to-date!\n",
      "[nltk_data]    | Downloading package sample_grammars to\n",
      "[nltk_data]    |     /Users/tem/nltk_data...\n",
      "[nltk_data]    |   Package sample_grammars is already up-to-date!\n",
      "[nltk_data]    | Downloading package semcor to /Users/tem/nltk_data...\n",
      "[nltk_data]    |   Package semcor is already up-to-date!\n",
      "[nltk_data]    | Downloading package senseval to\n",
      "[nltk_data]    |     /Users/tem/nltk_data...\n",
      "[nltk_data]    |   Package senseval is already up-to-date!\n",
      "[nltk_data]    | Downloading package sentence_polarity to\n",
      "[nltk_data]    |     /Users/tem/nltk_data...\n",
      "[nltk_data]    |   Package sentence_polarity is already up-to-date!\n",
      "[nltk_data]    | Downloading package sentiwordnet to\n",
      "[nltk_data]    |     /Users/tem/nltk_data...\n",
      "[nltk_data]    |   Package sentiwordnet is already up-to-date!\n",
      "[nltk_data]    | Downloading package shakespeare to\n",
      "[nltk_data]    |     /Users/tem/nltk_data...\n",
      "[nltk_data]    |   Package shakespeare is already up-to-date!\n",
      "[nltk_data]    | Downloading package sinica_treebank to\n",
      "[nltk_data]    |     /Users/tem/nltk_data...\n",
      "[nltk_data]    |   Package sinica_treebank is already up-to-date!\n",
      "[nltk_data]    | Downloading package smultron to\n",
      "[nltk_data]    |     /Users/tem/nltk_data...\n",
      "[nltk_data]    |   Package smultron is already up-to-date!\n",
      "[nltk_data]    | Downloading package snowball_data to\n",
      "[nltk_data]    |     /Users/tem/nltk_data...\n",
      "[nltk_data]    |   Package snowball_data is already up-to-date!\n",
      "[nltk_data]    | Downloading package spanish_grammars to\n",
      "[nltk_data]    |     /Users/tem/nltk_data...\n",
      "[nltk_data]    |   Package spanish_grammars is already up-to-date!\n",
      "[nltk_data]    | Downloading package state_union to\n",
      "[nltk_data]    |     /Users/tem/nltk_data...\n",
      "[nltk_data]    |   Package state_union is already up-to-date!\n",
      "[nltk_data]    | Downloading package stopwords to\n",
      "[nltk_data]    |     /Users/tem/nltk_data...\n",
      "[nltk_data]    |   Package stopwords is already up-to-date!\n",
      "[nltk_data]    | Downloading package subjectivity to\n",
      "[nltk_data]    |     /Users/tem/nltk_data...\n",
      "[nltk_data]    |   Package subjectivity is already up-to-date!\n",
      "[nltk_data]    | Downloading package swadesh to\n",
      "[nltk_data]    |     /Users/tem/nltk_data...\n",
      "[nltk_data]    |   Package swadesh is already up-to-date!\n",
      "[nltk_data]    | Downloading package switchboard to\n",
      "[nltk_data]    |     /Users/tem/nltk_data...\n",
      "[nltk_data]    |   Package switchboard is already up-to-date!\n",
      "[nltk_data]    | Downloading package tagsets to\n",
      "[nltk_data]    |     /Users/tem/nltk_data...\n",
      "[nltk_data]    |   Package tagsets is already up-to-date!\n",
      "[nltk_data]    | Downloading package timit to /Users/tem/nltk_data...\n",
      "[nltk_data]    |   Package timit is already up-to-date!\n",
      "[nltk_data]    | Downloading package toolbox to\n",
      "[nltk_data]    |     /Users/tem/nltk_data...\n",
      "[nltk_data]    |   Package toolbox is already up-to-date!\n",
      "[nltk_data]    | Downloading package treebank to\n",
      "[nltk_data]    |     /Users/tem/nltk_data...\n",
      "[nltk_data]    |   Package treebank is already up-to-date!\n",
      "[nltk_data]    | Downloading package twitter_samples to\n",
      "[nltk_data]    |     /Users/tem/nltk_data...\n",
      "[nltk_data]    |   Package twitter_samples is already up-to-date!\n",
      "[nltk_data]    | Downloading package udhr to /Users/tem/nltk_data...\n",
      "[nltk_data]    |   Package udhr is already up-to-date!\n",
      "[nltk_data]    | Downloading package udhr2 to /Users/tem/nltk_data...\n",
      "[nltk_data]    |   Package udhr2 is already up-to-date!\n",
      "[nltk_data]    | Downloading package unicode_samples to\n",
      "[nltk_data]    |     /Users/tem/nltk_data...\n",
      "[nltk_data]    |   Package unicode_samples is already up-to-date!\n",
      "[nltk_data]    | Downloading package universal_tagset to\n",
      "[nltk_data]    |     /Users/tem/nltk_data...\n",
      "[nltk_data]    |   Package universal_tagset is already up-to-date!\n",
      "[nltk_data]    | Downloading package universal_treebanks_v20 to\n",
      "[nltk_data]    |     /Users/tem/nltk_data...\n",
      "[nltk_data]    |   Package universal_treebanks_v20 is already up-to-\n",
      "[nltk_data]    |       date!\n",
      "[nltk_data]    | Downloading package vader_lexicon to\n",
      "[nltk_data]    |     /Users/tem/nltk_data...\n",
      "[nltk_data]    |   Package vader_lexicon is already up-to-date!\n",
      "[nltk_data]    | Downloading package verbnet to\n",
      "[nltk_data]    |     /Users/tem/nltk_data...\n",
      "[nltk_data]    |   Package verbnet is already up-to-date!\n",
      "[nltk_data]    | Downloading package verbnet3 to\n",
      "[nltk_data]    |     /Users/tem/nltk_data...\n",
      "[nltk_data]    |   Package verbnet3 is already up-to-date!\n",
      "[nltk_data]    | Downloading package webtext to\n",
      "[nltk_data]    |     /Users/tem/nltk_data...\n",
      "[nltk_data]    |   Package webtext is already up-to-date!\n",
      "[nltk_data]    | Downloading package wmt15_eval to\n",
      "[nltk_data]    |     /Users/tem/nltk_data...\n",
      "[nltk_data]    |   Package wmt15_eval is already up-to-date!\n",
      "[nltk_data]    | Downloading package word2vec_sample to\n",
      "[nltk_data]    |     /Users/tem/nltk_data...\n",
      "[nltk_data]    |   Package word2vec_sample is already up-to-date!\n",
      "[nltk_data]    | Downloading package wordnet to\n",
      "[nltk_data]    |     /Users/tem/nltk_data...\n",
      "[nltk_data]    |   Package wordnet is already up-to-date!\n",
      "[nltk_data]    | Downloading package wordnet2021 to\n",
      "[nltk_data]    |     /Users/tem/nltk_data...\n",
      "[nltk_data]    |   Package wordnet2021 is already up-to-date!\n",
      "[nltk_data]    | Downloading package wordnet2022 to\n",
      "[nltk_data]    |     /Users/tem/nltk_data...\n",
      "[nltk_data]    |   Package wordnet2022 is already up-to-date!\n",
      "[nltk_data]    | Downloading package wordnet31 to\n",
      "[nltk_data]    |     /Users/tem/nltk_data...\n",
      "[nltk_data]    |   Package wordnet31 is already up-to-date!\n",
      "[nltk_data]    | Downloading package wordnet_ic to\n",
      "[nltk_data]    |     /Users/tem/nltk_data...\n",
      "[nltk_data]    |   Package wordnet_ic is already up-to-date!\n",
      "[nltk_data]    | Downloading package words to /Users/tem/nltk_data...\n",
      "[nltk_data]    |   Package words is already up-to-date!\n",
      "[nltk_data]    | Downloading package ycoe to /Users/tem/nltk_data...\n",
      "[nltk_data]    |   Package ycoe is already up-to-date!\n",
      "[nltk_data]    | \n",
      "[nltk_data]  Done downloading collection all\n"
     ]
    },
    {
     "data": {
      "text/plain": [
       "True"
      ]
     },
     "execution_count": 3,
     "metadata": {},
     "output_type": "execute_result"
    }
   ],
   "source": [
    "# Download datasets and resources from NLTK\n",
    "nltk.download('all')"
   ]
  },
  {
   "cell_type": "markdown",
   "id": "ea0eb5b4-1ac7-4d03-bd44-ff0a1fee97e5",
   "metadata": {},
   "source": [
    "## The Dataset\n",
    "#### The data used in this study were sourced by CrowdFlower and are available on DataWorld (http://data.world). Below, I import the data and explore its attributes."
   ]
  },
  {
   "cell_type": "code",
   "execution_count": 4,
   "id": "2b4e302c-0a3f-41ac-92b6-2c59c2f9a835",
   "metadata": {},
   "outputs": [
    {
     "data": {
      "text/html": [
       "<div>\n",
       "<style scoped>\n",
       "    .dataframe tbody tr th:only-of-type {\n",
       "        vertical-align: middle;\n",
       "    }\n",
       "\n",
       "    .dataframe tbody tr th {\n",
       "        vertical-align: top;\n",
       "    }\n",
       "\n",
       "    .dataframe thead th {\n",
       "        text-align: right;\n",
       "    }\n",
       "</style>\n",
       "<table border=\"1\" class=\"dataframe\">\n",
       "  <thead>\n",
       "    <tr style=\"text-align: right;\">\n",
       "      <th></th>\n",
       "      <th>tweet_text</th>\n",
       "      <th>emotion_in_tweet_is_directed_at</th>\n",
       "      <th>is_there_an_emotion_directed_at_a_brand_or_product</th>\n",
       "    </tr>\n",
       "  </thead>\n",
       "  <tbody>\n",
       "    <tr>\n",
       "      <th>0</th>\n",
       "      <td>.@wesley83 I have a 3G iPhone. After 3 hrs twe...</td>\n",
       "      <td>iPhone</td>\n",
       "      <td>Negative emotion</td>\n",
       "    </tr>\n",
       "    <tr>\n",
       "      <th>1</th>\n",
       "      <td>@jessedee Know about @fludapp ? Awesome iPad/i...</td>\n",
       "      <td>iPad or iPhone App</td>\n",
       "      <td>Positive emotion</td>\n",
       "    </tr>\n",
       "    <tr>\n",
       "      <th>2</th>\n",
       "      <td>@swonderlin Can not wait for #iPad 2 also. The...</td>\n",
       "      <td>iPad</td>\n",
       "      <td>Positive emotion</td>\n",
       "    </tr>\n",
       "    <tr>\n",
       "      <th>3</th>\n",
       "      <td>@sxsw I hope this year's festival isn't as cra...</td>\n",
       "      <td>iPad or iPhone App</td>\n",
       "      <td>Negative emotion</td>\n",
       "    </tr>\n",
       "    <tr>\n",
       "      <th>4</th>\n",
       "      <td>@sxtxstate great stuff on Fri #SXSW: Marissa M...</td>\n",
       "      <td>Google</td>\n",
       "      <td>Positive emotion</td>\n",
       "    </tr>\n",
       "  </tbody>\n",
       "</table>\n",
       "</div>"
      ],
      "text/plain": [
       "                                          tweet_text  \\\n",
       "0  .@wesley83 I have a 3G iPhone. After 3 hrs twe...   \n",
       "1  @jessedee Know about @fludapp ? Awesome iPad/i...   \n",
       "2  @swonderlin Can not wait for #iPad 2 also. The...   \n",
       "3  @sxsw I hope this year's festival isn't as cra...   \n",
       "4  @sxtxstate great stuff on Fri #SXSW: Marissa M...   \n",
       "\n",
       "  emotion_in_tweet_is_directed_at  \\\n",
       "0                          iPhone   \n",
       "1              iPad or iPhone App   \n",
       "2                            iPad   \n",
       "3              iPad or iPhone App   \n",
       "4                          Google   \n",
       "\n",
       "  is_there_an_emotion_directed_at_a_brand_or_product  \n",
       "0                                   Negative emotion  \n",
       "1                                   Positive emotion  \n",
       "2                                   Positive emotion  \n",
       "3                                   Negative emotion  \n",
       "4                                   Positive emotion  "
      ]
     },
     "execution_count": 4,
     "metadata": {},
     "output_type": "execute_result"
    }
   ],
   "source": [
    "# Import data from csv\n",
    "data = pd.read_csv('data/twitter-data.csv', encoding='latin1')\n",
    "data.head()"
   ]
  },
  {
   "cell_type": "code",
   "execution_count": 5,
   "id": "28f48995-ca37-4181-9dbb-853fc884f1ca",
   "metadata": {},
   "outputs": [
    {
     "data": {
      "text/html": [
       "<div>\n",
       "<style scoped>\n",
       "    .dataframe tbody tr th:only-of-type {\n",
       "        vertical-align: middle;\n",
       "    }\n",
       "\n",
       "    .dataframe tbody tr th {\n",
       "        vertical-align: top;\n",
       "    }\n",
       "\n",
       "    .dataframe thead th {\n",
       "        text-align: right;\n",
       "    }\n",
       "</style>\n",
       "<table border=\"1\" class=\"dataframe\">\n",
       "  <thead>\n",
       "    <tr style=\"text-align: right;\">\n",
       "      <th></th>\n",
       "      <th>tweet_text</th>\n",
       "      <th>emotion_in_tweet_is_directed_at</th>\n",
       "      <th>is_there_an_emotion_directed_at_a_brand_or_product</th>\n",
       "    </tr>\n",
       "  </thead>\n",
       "  <tbody>\n",
       "    <tr>\n",
       "      <th>6</th>\n",
       "      <td>NaN</td>\n",
       "      <td>NaN</td>\n",
       "      <td>No emotion toward brand or product</td>\n",
       "    </tr>\n",
       "  </tbody>\n",
       "</table>\n",
       "</div>"
      ],
      "text/plain": [
       "  tweet_text emotion_in_tweet_is_directed_at  \\\n",
       "6        NaN                             NaN   \n",
       "\n",
       "  is_there_an_emotion_directed_at_a_brand_or_product  \n",
       "6                 No emotion toward brand or product  "
      ]
     },
     "execution_count": 5,
     "metadata": {},
     "output_type": "execute_result"
    }
   ],
   "source": [
    "# Check data for nans\n",
    "data[data['tweet_text'].isna()]"
   ]
  },
  {
   "cell_type": "code",
   "execution_count": 6,
   "id": "b4de45c7-6613-4acb-b768-8f9dd87f7fab",
   "metadata": {},
   "outputs": [],
   "source": [
    "# Drop nans and convert datatype in feature column\n",
    "data['tweet_text'].dropna(inplace=True)\n",
    "data['tweet_text'] = data['tweet_text'].astype(str)"
   ]
  },
  {
   "cell_type": "code",
   "execution_count": 7,
   "id": "a09d505b-0345-406a-965d-e3806ceb36cf",
   "metadata": {},
   "outputs": [
    {
     "data": {
      "text/plain": [
       "is_there_an_emotion_directed_at_a_brand_or_product\n",
       "No emotion toward brand or product    5389\n",
       "Positive emotion                      2978\n",
       "Negative emotion                       570\n",
       "I can't tell                           156\n",
       "Name: count, dtype: int64"
      ]
     },
     "execution_count": 7,
     "metadata": {},
     "output_type": "execute_result"
    }
   ],
   "source": [
    "# View value counts of target column\n",
    "data['is_there_an_emotion_directed_at_a_brand_or_product'].value_counts(dropna=False)"
   ]
  },
  {
   "cell_type": "markdown",
   "id": "31e34afd-c7d3-4f77-b706-7a17ec80806e",
   "metadata": {},
   "source": [
    "#### The data has two columns of interest: \n",
    "- #### \"tweet_text\": contains the body of the tweet, which will make up our features\n",
    "- #### \"is_there_an_emotion_directed_at_a_brand_or_product\": contains a judgement on the emotionality of the tweet, which will be our target. This column has 4 possible responses 1) No emotion toward brand or product, 2) Positive emotion, 3) Negative emotion, and 4) I can't tell. \n",
    "\n",
    "#### For simplicity, I will rename the target column so that it simply reads \"emotion.\" I will also collapse the responses in that column to 0's and 1's, such that all tweets labeled \"No emotion toward brand or product\" or \"Negative emotion\" are grouped under 1 and all tweets labeled \"Positive emotion\" are grouped under 0. I am using this convention because our emotions of interest are neutral and negative. \n",
    "\n",
    "#### Note that tweets labeled \"I can't tell\" are excluded from the analysis. "
   ]
  },
  {
   "cell_type": "code",
   "execution_count": 8,
   "id": "3e40086c-55f1-4104-ae22-fb066e8d0d28",
   "metadata": {},
   "outputs": [
    {
     "data": {
      "text/html": [
       "<div>\n",
       "<style scoped>\n",
       "    .dataframe tbody tr th:only-of-type {\n",
       "        vertical-align: middle;\n",
       "    }\n",
       "\n",
       "    .dataframe tbody tr th {\n",
       "        vertical-align: top;\n",
       "    }\n",
       "\n",
       "    .dataframe thead th {\n",
       "        text-align: right;\n",
       "    }\n",
       "</style>\n",
       "<table border=\"1\" class=\"dataframe\">\n",
       "  <thead>\n",
       "    <tr style=\"text-align: right;\">\n",
       "      <th></th>\n",
       "      <th>tweet_text</th>\n",
       "      <th>emotion_in_tweet_is_directed_at</th>\n",
       "      <th>emotion</th>\n",
       "    </tr>\n",
       "  </thead>\n",
       "  <tbody>\n",
       "    <tr>\n",
       "      <th>0</th>\n",
       "      <td>.@wesley83 I have a 3G iPhone. After 3 hrs twe...</td>\n",
       "      <td>iPhone</td>\n",
       "      <td>1</td>\n",
       "    </tr>\n",
       "    <tr>\n",
       "      <th>1</th>\n",
       "      <td>@jessedee Know about @fludapp ? Awesome iPad/i...</td>\n",
       "      <td>iPad or iPhone App</td>\n",
       "      <td>0</td>\n",
       "    </tr>\n",
       "    <tr>\n",
       "      <th>2</th>\n",
       "      <td>@swonderlin Can not wait for #iPad 2 also. The...</td>\n",
       "      <td>iPad</td>\n",
       "      <td>0</td>\n",
       "    </tr>\n",
       "    <tr>\n",
       "      <th>3</th>\n",
       "      <td>@sxsw I hope this year's festival isn't as cra...</td>\n",
       "      <td>iPad or iPhone App</td>\n",
       "      <td>1</td>\n",
       "    </tr>\n",
       "    <tr>\n",
       "      <th>4</th>\n",
       "      <td>@sxtxstate great stuff on Fri #SXSW: Marissa M...</td>\n",
       "      <td>Google</td>\n",
       "      <td>0</td>\n",
       "    </tr>\n",
       "    <tr>\n",
       "      <th>...</th>\n",
       "      <td>...</td>\n",
       "      <td>...</td>\n",
       "      <td>...</td>\n",
       "    </tr>\n",
       "    <tr>\n",
       "      <th>8932</th>\n",
       "      <td>Ipad everywhere. #SXSW {link}</td>\n",
       "      <td>iPad</td>\n",
       "      <td>0</td>\n",
       "    </tr>\n",
       "    <tr>\n",
       "      <th>8933</th>\n",
       "      <td>Wave, buzz... RT @mention We interrupt your re...</td>\n",
       "      <td>NaN</td>\n",
       "      <td>1</td>\n",
       "    </tr>\n",
       "    <tr>\n",
       "      <th>8934</th>\n",
       "      <td>Google's Zeiger, a physician never reported po...</td>\n",
       "      <td>NaN</td>\n",
       "      <td>1</td>\n",
       "    </tr>\n",
       "    <tr>\n",
       "      <th>8935</th>\n",
       "      <td>Some Verizon iPhone customers complained their...</td>\n",
       "      <td>NaN</td>\n",
       "      <td>1</td>\n",
       "    </tr>\n",
       "    <tr>\n",
       "      <th>8936</th>\n",
       "      <td>Ï¡Ïàü_ÊÎÒ£Áââ_£â_ÛâRT @...</td>\n",
       "      <td>NaN</td>\n",
       "      <td>1</td>\n",
       "    </tr>\n",
       "  </tbody>\n",
       "</table>\n",
       "<p>8937 rows × 3 columns</p>\n",
       "</div>"
      ],
      "text/plain": [
       "                                             tweet_text  \\\n",
       "0     .@wesley83 I have a 3G iPhone. After 3 hrs twe...   \n",
       "1     @jessedee Know about @fludapp ? Awesome iPad/i...   \n",
       "2     @swonderlin Can not wait for #iPad 2 also. The...   \n",
       "3     @sxsw I hope this year's festival isn't as cra...   \n",
       "4     @sxtxstate great stuff on Fri #SXSW: Marissa M...   \n",
       "...                                                 ...   \n",
       "8932                      Ipad everywhere. #SXSW {link}   \n",
       "8933  Wave, buzz... RT @mention We interrupt your re...   \n",
       "8934  Google's Zeiger, a physician never reported po...   \n",
       "8935  Some Verizon iPhone customers complained their...   \n",
       "8936  Ï¡Ïàü_ÊÎÒ£Áââ_£â_ÛâRT @...   \n",
       "\n",
       "     emotion_in_tweet_is_directed_at  emotion  \n",
       "0                             iPhone        1  \n",
       "1                 iPad or iPhone App        0  \n",
       "2                               iPad        0  \n",
       "3                 iPad or iPhone App        1  \n",
       "4                             Google        0  \n",
       "...                              ...      ...  \n",
       "8932                            iPad        0  \n",
       "8933                             NaN        1  \n",
       "8934                             NaN        1  \n",
       "8935                             NaN        1  \n",
       "8936                             NaN        1  \n",
       "\n",
       "[8937 rows x 3 columns]"
      ]
     },
     "execution_count": 8,
     "metadata": {},
     "output_type": "execute_result"
    }
   ],
   "source": [
    "# Convert target column to 0's and 1's\n",
    "data['emotion'] = data['is_there_an_emotion_directed_at_a_brand_or_product']\n",
    "data.drop('is_there_an_emotion_directed_at_a_brand_or_product', axis = 1, inplace = True)\n",
    "\n",
    "data = data[data['emotion'] != 'I can\\'t tell'].reset_index(drop=True)\n",
    "#data = data[data['emotion'] != 'No emotion toward brand or product'].reset_index(drop=True)\n",
    "\n",
    "map_dict = {\n",
    "    'No emotion toward brand or product': 1,\n",
    "    'Positive emotion': 0,\n",
    "    'Negative emotion': 1\n",
    "}\n",
    "\n",
    "data['emotion'] = data['emotion'].map(map_dict)\n",
    "\n",
    "data"
   ]
  },
  {
   "cell_type": "markdown",
   "id": "fed43057-8e09-46de-86ff-0b2f7964a542",
   "metadata": {},
   "source": [
    "#### Next I split the data into training and testing sets. I will perform this split twice - once using the whole dataset, and once using a version of the dataset where the majority class (1's) are downsampled. This resampled data will come in handy when working with models that do not perform well with imbalanced datasets. "
   ]
  },
  {
   "cell_type": "code",
   "execution_count": 9,
   "id": "7691e245-b225-42d0-a711-3d1ab6d5777d",
   "metadata": {},
   "outputs": [],
   "source": [
    "# Define X and y\n",
    "X = data['tweet_text']\n",
    "y = data['emotion']\n",
    "\n",
    "# Split data into training and testing sets\n",
    "X_train, X_test, y_train, y_test = train_test_split(X, y, test_size = 0.25, stratify = y, random_state = 42)"
   ]
  },
  {
   "cell_type": "code",
   "execution_count": 10,
   "id": "96574439-e059-4244-9f5d-bd79416a1044",
   "metadata": {},
   "outputs": [],
   "source": [
    "# Downsample majority class to correct imbalance in dataset\n",
    "zeros = data[data['emotion'] == 0]\n",
    "ones_sampled = data[data['emotion'] == 1].sample(len(zeros), random_state=42)\n",
    "\n",
    "data_rs = pd.concat([zeros, ones_sampled], axis=0)\n",
    "\n",
    "X_rs = data_rs['tweet_text']\n",
    "y_rs = data_rs['emotion']\n",
    "\n",
    "X_train_rs, X_test_rs, y_train_rs, y_test_rs = train_test_split(X_rs, y_rs, test_size = 0.25, stratify = y_rs, random_state = 42)"
   ]
  },
  {
   "cell_type": "markdown",
   "id": "13276b4c-4da0-42e1-95ff-18f324849283",
   "metadata": {},
   "source": [
    "#### Below, I define a class to preprocess the text data by completing the following steps:\n",
    "- #### Case normalization\n",
    "- #### Tokenization\n",
    "- #### Part-of-speech tagging\n",
    "- #### Lemmatization"
   ]
  },
  {
   "cell_type": "code",
   "execution_count": 11,
   "id": "7384b0b8-2fe1-46c4-86a1-3b9e6c6511db",
   "metadata": {},
   "outputs": [],
   "source": [
    "# Create class to preprocess text data\n",
    "class TextPreprocessor(BaseEstimator, TransformerMixin):\n",
    "    \n",
    "    def __init__(self):\n",
    "        pass\n",
    "    \n",
    "    def fit(self, data, y = 0):\n",
    "        return self\n",
    "    \n",
    "    def transform(self, data, y = 0):\n",
    "        fully_normalized_corpus = data.apply(self.process_doc)\n",
    "        \n",
    "        return fully_normalized_corpus\n",
    "            \n",
    "    def process_doc(self, doc):\n",
    "\n",
    "        #initialize lemmatizer\n",
    "        wnl = WordNetLemmatizer()\n",
    "        stop_words = stopwords.words('english')\n",
    "        \n",
    "        # helper function to change nltk's part of speech tagging to a wordnet format\n",
    "        def pos_tagger(nltk_tag):\n",
    "            if nltk_tag.startswith('J'):\n",
    "                return wordnet.ADJ\n",
    "            elif nltk_tag.startswith('V'):\n",
    "                return wordnet.VERB\n",
    "            elif nltk_tag.startswith('N'):\n",
    "                return wordnet.NOUN\n",
    "            elif nltk_tag.startswith('R'):\n",
    "                return wordnet.ADV\n",
    "            else:         \n",
    "                return None\n",
    "\n",
    "        # remove punctuations, then lower case\n",
    "        doc_norm = [tok.lower() for tok in word_tokenize(doc) if ((tok.isalpha()))]\n",
    "\n",
    "        # creates list of tuples with tokens and POS tags in wordnet format\n",
    "        wordnet_tagged = list(map(lambda x: (x[0], pos_tagger(x[1])), pos_tag(doc_norm))) \n",
    "        doc_norm = [wnl.lemmatize(token, pos) for token, pos in wordnet_tagged if pos is not None]\n",
    "\n",
    "        return \" \".join(doc_norm)"
   ]
  },
  {
   "cell_type": "markdown",
   "id": "7b854bbe-7b39-4a28-bba5-c2c57df49b33",
   "metadata": {},
   "source": [
    "## Baseline Models"
   ]
  },
  {
   "cell_type": "markdown",
   "id": "4593ec3e-5a46-4188-8e1d-e28a368cf6d5",
   "metadata": {},
   "source": [
    "#### I begin the modeling process by passing the preprocessed data to 6 different machine learning models:      \n",
    "\n",
    "- #### Multinomial Naive Bayes\n",
    "- #### Logistic Regression\n",
    "- #### Random Forest\n",
    "- #### Neural Network\n",
    "- #### XGBoost\n",
    "- #### Complement Naive Bayes\n",
    "\n",
    "#### Note that I fed the resampled dataset to the majority of these models (Multinomial Naive Bayes, Logistic Regression, Random Forest, Neural Network, and XGBoost) but fed the entire dataset to Complement Naive Bayes, since it is robust to imbalanced data. "
   ]
  },
  {
   "cell_type": "code",
   "execution_count": 12,
   "id": "5072adbf-cd0f-49bf-83e0-12bd93392749",
   "metadata": {},
   "outputs": [],
   "source": [
    "# Define and run baseline models on undersampled data\n",
    "pipeline = Pipeline([\n",
    "    ('preprocessor', TextPreprocessor()),\n",
    "    ('vectorizer', CountVectorizer())\n",
    "])\n",
    "\n",
    "X_train_proc = pipeline.fit_transform(X_train)\n",
    "X_test_proc = pipeline.transform(X_test)\n",
    "\n",
    "X_train_rs_proc = pipeline.fit_transform(X_train_rs)\n",
    "X_test_rs_proc = pipeline.transform(X_test_rs)\n",
    "\n",
    "classifiers = {\n",
    "    \"MultinomialNB\": MultinomialNB(),\n",
    "    \"Logistic Regression\": LogisticRegression(),\n",
    "    \"Random Forest\": RandomForestClassifier(),\n",
    "    \"Neural Network\": MLPClassifier(),\n",
    "    \"XGBoost\": XGBClassifier()\n",
    "}\n",
    "\n",
    "recall_scores = {}\n",
    "\n",
    "for name, clf in classifiers.items():\n",
    "    clf.fit(X_train_rs_proc, y_train_rs)\n",
    "    y_pred = clf.predict(X_test_rs_proc)\n",
    "    recall_scores[name] = recall_score(y_test_rs, y_pred)\n",
    "\n",
    "# Run ComplementNB on full dataset (not undersampled data)\n",
    "clf = ComplementNB()\n",
    "clf.fit(X_train_proc, y_train)\n",
    "y_pred = clf.predict(X_test_proc)\n",
    "recall_scores[\"ComplementNB*\"] = recall_score(y_test, y_pred)"
   ]
  },
  {
   "cell_type": "code",
   "execution_count": 13,
   "id": "cb448e8f-23fe-4675-abed-73f58a6f30eb",
   "metadata": {},
   "outputs": [
    {
     "data": {
      "image/png": "[encoded data removed]",
      "text/plain": [
       "<Figure size 1000x500 with 1 Axes>"
      ]
     },
     "metadata": {},
     "output_type": "display_data"
    }
   ],
   "source": [
    "# Plot recall scores of baseline models\n",
    "names = list(recall_scores.keys())\n",
    "values = list(recall_scores.values())\n",
    "\n",
    "plt.figure(figsize=(10, 5))\n",
    "bars = plt.bar(names, values, color='#6A5ACD')\n",
    "plt.ylabel('Recall Scores')\n",
    "plt.title('Recall Scores Across Baseline Models')\n",
    "\n",
    "# Annotate bars with recall scores\n",
    "for bar in bars:\n",
    "    yval = bar.get_height()\n",
    "    plt.text(bar.get_x() + bar.get_width()/2, yval, round(yval, 2), ha='center', va='bottom')\n",
    "\n",
    "plt.xticks(rotation=45)\n",
    "plt.tight_layout()\n",
    "sns.despine()\n",
    "\n",
    "if save_figs==1:\n",
    "    plt.savefig('figs/baseline_recall_scores.png', dpi=300)"
   ]
  },
  {
   "cell_type": "markdown",
   "id": "4d757839-150d-4c5b-b244-d3f66e3f4d37",
   "metadata": {},
   "source": [
    "#### Of all the baseline models, Complement Naive Bayes performs the best with a recall score of 0.74. XGBoost, Random Forest, and Logistic Regression also perform reasonably well, with recall scores of 0.71, 0.71, and 0.69, respectively. For this reason, I will continue onto hyperparameter tune these top 4 performing models. "
   ]
  },
  {
   "cell_type": "code",
   "execution_count": 14,
   "id": "0ae2d331-2ec7-4675-a41f-22ff4e548330",
   "metadata": {},
   "outputs": [],
   "source": [
    "# Create lists for the models to tune, the training recall scores for these models, and the testing recall scores for these models\n",
    "tuned_models = ['ComplementNB*', 'XGBoost', 'Random Forest', 'Logistic Regression']\n",
    "training_recalls = []\n",
    "validation_recalls = []"
   ]
  },
  {
   "cell_type": "code",
   "execution_count": 15,
   "id": "f9a4852e-ef5c-4432-8345-8d6f28f3d766",
   "metadata": {},
   "outputs": [],
   "source": [
    "# Define scorer for hyperparameter tuning\n",
    "recall_scorer = make_scorer(recall_score, pos_label=1)"
   ]
  },
  {
   "cell_type": "markdown",
   "id": "c65f3a80-b513-4c4d-8d6b-15109ceeb4fe",
   "metadata": {},
   "source": [
    "## Tune Complement Naive Bayes"
   ]
  },
  {
   "cell_type": "code",
   "execution_count": 16,
   "id": "cd9d6920-6949-4773-a2c1-33da922ec849",
   "metadata": {},
   "outputs": [
    {
     "name": "stdout",
     "output_type": "stream",
     "text": [
      "Fitting 5 folds for each of 180 candidates, totalling 900 fits\n",
      "Best parameters found:  {'classifier__alpha': 7, 'classifier__fit_prior': True, 'vectorizer': TfidfVectorizer(max_df=0.99999, min_df=1e-10), 'vectorizer__max_df': 0.99999, 'vectorizer__min_df': 1e-10}\n",
      "Best vectorizer:  TfidfVectorizer(max_df=0.99999, min_df=1e-10)\n",
      "Training Recall for Best Model: 0.9896\n",
      "Validation Recall for Best Model: 0.9837\n"
     ]
    }
   ],
   "source": [
    "# Hyperparameter tune Complement Naive Bayes\n",
    "pipeline = Pipeline([\n",
    "    ('preprocessor', TextPreprocessor()),\n",
    "    ('vectorizer', None),\n",
    "    ('classifier', ComplementNB())\n",
    "])\n",
    "\n",
    "param_grid = {\n",
    "    'vectorizer': [CountVectorizer(), TfidfVectorizer()],\n",
    "    'vectorizer__min_df': [1e-10, 0.01, 0.05],\n",
    "    'vectorizer__max_df': [0.85, 0.90, 0.99999],\n",
    "    'classifier__alpha': [0.5, 1, 3, 5, 7],\n",
    "    'classifier__fit_prior': [True, False]}\n",
    "\n",
    "grid_search1 = GridSearchCV(pipeline, param_grid, cv=5, verbose=1, scoring=recall_scorer, return_train_score=True)\n",
    "grid_search1.fit(X_train, y_train)\n",
    "\n",
    "print(\"Best parameters found: \", grid_search1.best_params_)\n",
    "print(\"Best vectorizer: \", grid_search1.best_estimator_.named_steps['vectorizer'])\n",
    "\n",
    "best_index = grid_search1.best_index_\n",
    "best_train_recall = grid_search1.cv_results_['mean_train_score'][best_index]\n",
    "best_val_recall = grid_search1.cv_results_['mean_test_score'][best_index]\n",
    "\n",
    "training_recalls.append(best_train_recall)\n",
    "validation_recalls.append(best_val_recall)\n",
    "\n",
    "print('')\n",
    "print(f\"Training Recall for Best Model: {best_train_recall:.4f}\")\n",
    "print(f\"Validation Recall for Best Model: {best_val_recall:.4f}\")"
   ]
  },
  {
   "cell_type": "markdown",
   "id": "cc89f72d-777d-4cec-8b44-3b022dd11d07",
   "metadata": {},
   "source": [
    "## Tune XGBoost"
   ]
  },
  {
   "cell_type": "code",
   "execution_count": 17,
   "id": "b7fb6f2a-b6ab-4ece-9711-611c7e4bd0ce",
   "metadata": {},
   "outputs": [
    {
     "name": "stdout",
     "output_type": "stream",
     "text": [
      "Fitting 5 folds for each of 360 candidates, totalling 1800 fits\n",
      "Best parameters found:  {'classifier__colsample_bytree': 1.0, 'classifier__learning_rate': 0.0001, 'classifier__max_depth': 3, 'classifier__n_estimators': 100, 'classifier__subsample': 0.8, 'vectorizer': CountVectorizer()}\n",
      "Best vectorizer:  CountVectorizer()\n",
      "Training Recall for Best Model: 0.7682\n",
      "Validation Recall for Best Model: 0.7663\n"
     ]
    }
   ],
   "source": [
    "# Hyperparameter tune XGBoost\n",
    "pipeline.steps.pop(-1)\n",
    "pipeline.steps.append(('classifier', XGBClassifier()))\n",
    "\n",
    "param_grid = {\n",
    "    'vectorizer': [CountVectorizer(), TfidfVectorizer()],\n",
    "    'classifier__learning_rate': [0.0001, 0.1, 0.5],\n",
    "    'classifier__n_estimators': [10, 15, 50, 100, 200],\n",
    "    'classifier__subsample': [0.5, 0.8],\n",
    "    'classifier__max_depth': [3, 5, 7],\n",
    "    'classifier__colsample_bytree': [0.8, 1.0]}\n",
    "\n",
    "grid_search2 = GridSearchCV(pipeline, param_grid, cv=5, verbose=1, scoring=recall_scorer, return_train_score=True)\n",
    "grid_search2.fit(X_train_rs, y_train_rs)\n",
    "\n",
    "print(\"Best parameters found: \", grid_search2.best_params_)\n",
    "print(\"Best vectorizer: \", grid_search2.best_estimator_.named_steps['vectorizer'])\n",
    "\n",
    "best_index = grid_search2.best_index_\n",
    "best_train_recall = grid_search2.cv_results_['mean_train_score'][best_index]\n",
    "best_val_recall = grid_search2.cv_results_['mean_test_score'][best_index]\n",
    "\n",
    "training_recalls.append(best_train_recall)\n",
    "validation_recalls.append(best_val_recall)\n",
    "\n",
    "print('')\n",
    "print(f\"Training Recall for Best Model: {best_train_recall:.4f}\")\n",
    "print(f\"Validation Recall for Best Model: {best_val_recall:.4f}\")"
   ]
  },
  {
   "cell_type": "markdown",
   "id": "fa34e938-04c7-4d84-bbc9-9837ede1e788",
   "metadata": {},
   "source": [
    "## Tune Random Forest"
   ]
  },
  {
   "cell_type": "code",
   "execution_count": 19,
   "id": "58f6effc-5647-46cd-b9d1-9c67d392e65d",
   "metadata": {},
   "outputs": [
    {
     "name": "stdout",
     "output_type": "stream",
     "text": [
      "Fitting 5 folds for each of 24 candidates, totalling 120 fits\n",
      "Best parameters found:  {'classifier__criterion': 'entropy', 'classifier__max_depth': 50, 'classifier__n_estimators': 100, 'vectorizer': CountVectorizer()}\n",
      "Best vectorizer:  CountVectorizer()\n",
      "Training Recall for Best Model: 0.9455\n",
      "Validation Recall for Best Model: 0.6831\n"
     ]
    }
   ],
   "source": [
    "# Hyperparameter tune Random Forest\n",
    "pipeline.steps.pop()\n",
    "pipeline.steps.append(('classifier', RandomForestClassifier()))\n",
    "\n",
    "param_grid = {\n",
    "    'vectorizer': [CountVectorizer(), TfidfVectorizer()],\n",
    "    'classifier__n_estimators': [100, 300],\n",
    "    'classifier__max_depth': [10, 30, 50],\n",
    "    'classifier__criterion': ['gini', 'entropy']}\n",
    "\n",
    "grid_search3 = GridSearchCV(pipeline, param_grid, cv=5, verbose=1, scoring=recall_scorer, return_train_score=True)\n",
    "grid_search3.fit(X_train_rs, y_train_rs)\n",
    "\n",
    "print(\"Best parameters found: \", grid_search3.best_params_)\n",
    "print(\"Best vectorizer: \", grid_search3.best_estimator_.named_steps['vectorizer'])\n",
    "\n",
    "best_index = grid_search3.best_index_\n",
    "best_train_recall = grid_search3.cv_results_['mean_train_score'][best_index]\n",
    "best_val_recall = grid_search3.cv_results_['mean_test_score'][best_index]\n",
    "\n",
    "training_recalls.append(best_train_recall)\n",
    "validation_recalls.append(best_val_recall)\n",
    "\n",
    "print('')\n",
    "print(f\"Training Recall for Best Model: {best_train_recall:.4f}\")\n",
    "print(f\"Validation Recall for Best Model: {best_val_recall:.4f}\")"
   ]
  },
  {
   "cell_type": "markdown",
   "id": "5de8a56c-8040-4441-8b78-97fe456c4dd0",
   "metadata": {},
   "source": [
    "## Tune Logistic Regression"
   ]
  },
  {
   "cell_type": "code",
   "execution_count": 21,
   "id": "d06d662c-cd22-4d06-be51-a1de52ee8ff4",
   "metadata": {},
   "outputs": [
    {
     "name": "stdout",
     "output_type": "stream",
     "text": [
      "Fitting 5 folds for each of 48 candidates, totalling 240 fits\n",
      "Best parameters found:  {'classifier__C': 0.1, 'classifier__penalty': 'l1', 'classifier__solver': 'saga', 'vectorizer': TfidfVectorizer()}\n",
      "Best vectorizer:  TfidfVectorizer()\n",
      "Training Recall for Best Model: 0.7282\n",
      "Validation Recall for Best Model: 0.7230\n"
     ]
    }
   ],
   "source": [
    "# Hyperparameter tune Logistic Regression\n",
    "pipeline.steps.pop()\n",
    "pipeline.steps.append(('classifier', LogisticRegression()))\n",
    "\n",
    "param_grid = {\n",
    "    'vectorizer': [CountVectorizer(), TfidfVectorizer()],\n",
    "    'classifier__penalty': ['l1', 'l2'],\n",
    "    'classifier__C': [0.001, 0.01, 0.1, 1, 10, 100],\n",
    "    'classifier__solver': ['liblinear', 'saga']}\n",
    "\n",
    "grid_search4 = GridSearchCV(pipeline, param_grid, cv=5, verbose=1, scoring=recall_scorer, return_train_score=True)\n",
    "grid_search4.fit(X_train_rs, y_train_rs)\n",
    "\n",
    "print(\"Best parameters found: \", grid_search4.best_params_)\n",
    "print(\"Best vectorizer: \", grid_search4.best_estimator_.named_steps['vectorizer'])\n",
    "\n",
    "best_index = grid_search4.best_index_\n",
    "best_train_recall = grid_search4.cv_results_['mean_train_score'][best_index]\n",
    "best_val_recall = grid_search4.cv_results_['mean_test_score'][best_index]\n",
    "\n",
    "training_recalls.append(best_train_recall)\n",
    "validation_recalls.append(best_val_recall)\n",
    "\n",
    "print('')\n",
    "print(f\"Training Recall for Best Model: {best_train_recall:.4f}\")\n",
    "print(f\"Validation Recall for Best Model: {best_val_recall:.4f}\")"
   ]
  },
  {
   "cell_type": "markdown",
   "id": "2988fad6-c18e-4ffa-b211-c61f4b0a1e77",
   "metadata": {},
   "source": [
    "## Visualize hypertuned model performance"
   ]
  },
  {
   "cell_type": "code",
   "execution_count": 32,
   "id": "4a603605-8288-4c59-a334-2302fa3e8d7d",
   "metadata": {},
   "outputs": [
    {
     "data": {
      "image/png": "[encoded data removed]",
      "text/plain": [
       "<Figure size 1000x500 with 1 Axes>"
      ]
     },
     "metadata": {},
     "output_type": "display_data"
    }
   ],
   "source": [
    "# Plot recall scores of training and testing sets for hyperparameter tuned models\n",
    "bar_width = 0.35\n",
    "index = np.arange(len(tuned_models))\n",
    "\n",
    "plt.figure(figsize=(10, 5))\n",
    "\n",
    "# Create bars\n",
    "bars1 = plt.bar(index, training_recalls, bar_width, color='#4682B4', label='Training Recalls')\n",
    "bars2 = plt.bar(index + bar_width, validation_recalls, bar_width, color='#6A5ACD', label='Validation Recalls')\n",
    "\n",
    "# Annotate bars with training recall\n",
    "for bar in bars1:\n",
    "    yval = bar.get_height()\n",
    "    plt.text(bar.get_x() + bar.get_width()/2, yval, round(yval, 2), ha='center', va='bottom', color='black')\n",
    "\n",
    "# Annotate bars with validation recall\n",
    "for bar in bars2:\n",
    "    yval = bar.get_height()\n",
    "    plt.text(bar.get_x() + bar.get_width()/2, yval, round(yval, 2), ha='center', va='bottom', color='black')\n",
    "\n",
    "plt.ylabel('Recall Scores')\n",
    "plt.title('Tuned Model Recall Scores')\n",
    "plt.xticks(index + bar_width / 2, tuned_models, rotation=45)\n",
    "plt.legend()\n",
    "plt.tight_layout()\n",
    "sns.despine()\n",
    "\n",
    "if save_figs==1:\n",
    "    plt.savefig('figs/tuned_recall_scores.png', dpi=300)"
   ]
  },
  {
   "cell_type": "markdown",
   "id": "47d6a586-4b24-4d49-af40-31426f7a22ac",
   "metadata": {},
   "source": [
    "#### After hyperparameter tuning, the Complement Naive Bayes classifier performs exceptionally well, with training and validation recall scores approaching 1. The tuned random forest also performs well during training, but appears to be overfitting, as evidenced by the discrepancy between training and validation scores (recall = 0.95 for training, recall = 0.68 for testing). The tuned XGBoost and Logistic Regression classifiers do not perform much better than their baseline models. For these reasons, I select the Complement Naive Bayes classifier as the final model. To confirm this model selection, I will pass unseen data (the test set) to the Complement Naive Bayes classifier and assess recall scores."
   ]
  },
  {
   "cell_type": "markdown",
   "id": "d2dcd101-349e-4d05-b05f-1073c4832941",
   "metadata": {},
   "source": [
    "## Final Model on Heldout Data"
   ]
  },
  {
   "cell_type": "code",
   "execution_count": 23,
   "id": "4351e746-38a1-4382-ae8e-ca5f86ab594f",
   "metadata": {},
   "outputs": [
    {
     "name": "stdout",
     "output_type": "stream",
     "text": [
      "              precision    recall  f1-score   support\n",
      "\n",
      "           0       0.75      0.11      0.20       745\n",
      "           1       0.69      0.98      0.81      1490\n",
      "\n",
      "    accuracy                           0.69      2235\n",
      "   macro avg       0.72      0.55      0.50      2235\n",
      "weighted avg       0.71      0.69      0.61      2235\n",
      "\n"
     ]
    }
   ],
   "source": [
    "# Calculate model performance scores on test data using the best model (Complement Naive Bayes)\n",
    "y_pred = grid_search1.best_estimator_.predict(X_test)\n",
    "report = classification_report(y_test, y_pred)\n",
    "print(report)"
   ]
  },
  {
   "cell_type": "code",
   "execution_count": 28,
   "id": "7a12c791-b661-457e-8711-f065b5a425f2",
   "metadata": {},
   "outputs": [
    {
     "data": {
      "image/png": "[encoded data removed]",
      "text/plain": [
       "<Figure size 640x480 with 2 Axes>"
      ]
     },
     "metadata": {},
     "output_type": "display_data"
    },
    {
     "data": {
      "image/png": "[encoded data removed]",
      "text/plain": [
       "<Figure size 640x480 with 2 Axes>"
      ]
     },
     "metadata": {},
     "output_type": "display_data"
    }
   ],
   "source": [
    "# Create a confusion matrix using the training data and the best model (Complement Naive Bayes)\n",
    "disp = ConfusionMatrixDisplay.from_estimator(grid_search1.best_estimator_, X_train, y_train)\n",
    "disp.plot(cmap='Purples')\n",
    "\n",
    "if save_figs==1:\n",
    "    plt.savefig('figs/conmat_train.png', dpi=300)"
   ]
  },
  {
   "cell_type": "code",
   "execution_count": 34,
   "id": "52a943a2-4c0c-4b9e-b3db-98f12c8fea96",
   "metadata": {},
   "outputs": [
    {
     "data": {
      "image/png": "[encoded data removed]",
      "text/plain": [
       "<Figure size 640x480 with 2 Axes>"
      ]
     },
     "metadata": {},
     "output_type": "display_data"
    },
    {
     "data": {
      "image/png": "[encoded data removed]",
      "text/plain": [
       "<Figure size 640x480 with 2 Axes>"
      ]
     },
     "metadata": {},
     "output_type": "display_data"
    }
   ],
   "source": [
    "# Create a confusion matrix using the testing data and the best model (Complement Naive Bayes)\n",
    "disp = ConfusionMatrixDisplay.from_estimator(grid_search1.best_estimator_, X_test, y_test)\n",
    "disp.plot(cmap='Purples')\n",
    "\n",
    "if save_figs==1:\n",
    "    plt.savefig('figs/conmat_test.png', dpi=300)"
   ]
  },
  {
   "cell_type": "markdown",
   "id": "3f910e62-47db-4b71-9a6c-0f9c51c94b51",
   "metadata": {},
   "source": [
    "### Conclusions: \n",
    "- #### We are able to successfully classify tweets based on emotionality with high model performance scores.\n",
    "- #### A Complement Naive Bayes classifier outperforms all other models tested, and gives the added benefit of managing the entire, imbalanced dataset.\n",
    "- #### The final model achieves high recall (0.98), although sacrifices precision (0.69)"
   ]
  }
 ],
 "metadata": {
  "kernelspec": {
   "display_name": "Python 3 (ipykernel)",
   "language": "python",
   "name": "python3"
  },
  "language_info": {
   "codemirror_mode": {
    "name": "ipython",
    "version": 3
   },
   "file_extension": ".py",
   "mimetype": "text/x-python",
   "name": "python",
   "nbconvert_exporter": "python",
   "pygments_lexer": "ipython3",
   "version": "3.9.18"
  }
 },
 "nbformat": 4,
 "nbformat_minor": 5
}
